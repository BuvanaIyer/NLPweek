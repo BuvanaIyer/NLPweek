{
 "cells": [
  {
   "cell_type": "code",
   "execution_count": 2,
   "metadata": {},
   "outputs": [
    {
     "name": "stderr",
     "output_type": "stream",
     "text": [
      "C:\\Users\\Public\\Documents\\Anaconda3\\lib\\site-packages\\gensim\\similarities\\__init__.py:15: UserWarning: The gensim.similarities.levenshtein submodule is disabled, because the optional Levenshtein package <https://pypi.org/project/python-Levenshtein/> is unavailable. Install Levenhstein (e.g. `pip install python-Levenshtein`) to suppress this warning.\n",
      "  warnings.warn(msg)\n"
     ]
    }
   ],
   "source": [
    "import argparse\n",
    "import os\n",
    "import numpy as np\n",
    "import pandas as pd\n",
    "import nltk\n",
    "import re\n",
    "from gensim.models import Word2Vec\n",
    "import gensim\n",
    "from gensim.models.callbacks import CallbackAny2Vec\n",
    "from gensim.test.utils import common_texts, get_tmpfile"
   ]
  },
  {
   "cell_type": "code",
   "execution_count": 3,
   "metadata": {},
   "outputs": [
    {
     "ename": "NameError",
     "evalue": "name 'data_folder' is not defined",
     "output_type": "error",
     "traceback": [
      "\u001b[1;31m---------------------------------------------------------------------------\u001b[0m",
      "\u001b[1;31mNameError\u001b[0m                                 Traceback (most recent call last)",
      "\u001b[1;32m<ipython-input-3-d57fbdefadac>\u001b[0m in \u001b[0;36m<module>\u001b[1;34m\u001b[0m\n\u001b[0;32m     21\u001b[0m \u001b[1;33m\u001b[0m\u001b[0m\n\u001b[0;32m     22\u001b[0m \u001b[1;33m\u001b[0m\u001b[0m\n\u001b[1;32m---> 23\u001b[1;33m \u001b[0mfilepath\u001b[0m \u001b[1;33m=\u001b[0m \u001b[0mos\u001b[0m\u001b[1;33m.\u001b[0m\u001b[0mpath\u001b[0m\u001b[1;33m.\u001b[0m\u001b[0mjoin\u001b[0m\u001b[1;33m(\u001b[0m\u001b[0mdata_folder\u001b[0m\u001b[1;33m,\u001b[0m \u001b[1;34m'training_preprocessed_1.csv'\u001b[0m\u001b[1;33m)\u001b[0m\u001b[1;33m\u001b[0m\u001b[1;33m\u001b[0m\u001b[0m\n\u001b[0m\u001b[0;32m     24\u001b[0m \u001b[0mdf\u001b[0m\u001b[1;33m=\u001b[0m\u001b[0mpd\u001b[0m\u001b[1;33m.\u001b[0m\u001b[0mread_csv\u001b[0m\u001b[1;33m(\u001b[0m\u001b[0mfilepath\u001b[0m\u001b[1;33m,\u001b[0m \u001b[0mencoding\u001b[0m \u001b[1;33m=\u001b[0m \u001b[1;34m\"ISO-8859-1\"\u001b[0m\u001b[1;33m)\u001b[0m\u001b[1;33m\u001b[0m\u001b[1;33m\u001b[0m\u001b[0m\n\u001b[0;32m     25\u001b[0m \u001b[1;33m\u001b[0m\u001b[0m\n",
      "\u001b[1;31mNameError\u001b[0m: name 'data_folder' is not defined"
     ]
    }
   ],
   "source": [
    "# ************************************************************\n",
    "#     *******  Model Training Code starts here ********\n",
    "# ************************************************************\n",
    "\n",
    "\n",
    "loss_list=[0]\n",
    "class callback(CallbackAny2Vec):\n",
    "    '''Callback to print loss after each epoch.'''\n",
    "\n",
    "    def __init__(self):\n",
    "        self.epoch = 0\n",
    "\n",
    "    def on_epoch_end(self, model):\n",
    "        loss = model.get_latest_training_loss()\n",
    "        print('Loss after epoch {}: {}'.format(self.epoch, loss))\n",
    "        \n",
    "        print(loss-loss_list[-1])\n",
    "        loss_list.append(loss)\n",
    "        \n",
    "        self.epoch += 1\n",
    "\n",
    "    \n",
    "filepath = os.path.join(data_folder, 'training_preprocessed_1.csv')\n",
    "df=pd.read_csv(filepath, encoding = \"ISO-8859-1\")\n",
    "\n",
    "\n",
    "all_words=[]\n",
    "for sent in df[\"Tweet\"]:\n",
    "    all_words.append(nltk.word_tokenize(sent))\n",
    "\n",
    "word2vec = Word2Vec(all_words, workers=7 , min_count=30, size=300, sg=0,\n",
    "                    compute_loss=True, callbacks=[callback()], iter=5)\n",
    "\n",
    "\n",
    "print('Running the test dataset through...')\n",
    "\n",
    "\n",
    "\n",
    "#     *******  Model Training Code end here ********"
   ]
  },
  {
   "cell_type": "markdown",
   "metadata": {},
   "source": [
    "https://www.kaggle.com/marijakekic/cnn-in-keras-with-pretrained-word2vec-weights"
   ]
  },
  {
   "cell_type": "code",
   "execution_count": 4,
   "metadata": {},
   "outputs": [],
   "source": [
    "import numpy as np\n",
    "import pandas as pd"
   ]
  },
  {
   "cell_type": "code",
   "execution_count": 22,
   "metadata": {},
   "outputs": [
    {
     "name": "stderr",
     "output_type": "stream",
     "text": [
      "C:\\Users\\Public\\Documents\\Anaconda3\\lib\\site-packages\\ipykernel_launcher.py:2: ParserWarning: Falling back to the 'python' engine because the 'c' engine does not support regex separators (separators > 1 char and different from '\\s+' are interpreted as regex); you can avoid this warning by specifying engine='python'.\n",
      "  \n",
      "C:\\Users\\Public\\Documents\\Anaconda3\\lib\\site-packages\\ipykernel_launcher.py:5: ParserWarning: Falling back to the 'python' engine because the 'c' engine does not support regex separators (separators > 1 char and different from '\\s+' are interpreted as regex); you can avoid this warning by specifying engine='python'.\n",
      "  \"\"\"\n"
     ]
    }
   ],
   "source": [
    "# training data\n",
    "train_data = pd.read_csv(r\"C:/Users/buvan/Downloads/stance-data-all-annotations/data-all-annotations/trainingdata-all-annotations.txt\", sep='\\\\t', header=0)\n",
    "\n",
    "# test data\n",
    "test_data = pd.read_csv(r\"C:/Users/buvan/Downloads/stance-data-all-annotations/data-all-annotations/testdata-taskB-all-annotations.txt\", sep='\\\\t', header=0)"
   ]
  },
  {
   "cell_type": "code",
   "execution_count": 23,
   "metadata": {},
   "outputs": [
    {
     "data": {
      "text/html": [
       "<div>\n",
       "<style scoped>\n",
       "    .dataframe tbody tr th:only-of-type {\n",
       "        vertical-align: middle;\n",
       "    }\n",
       "\n",
       "    .dataframe tbody tr th {\n",
       "        vertical-align: top;\n",
       "    }\n",
       "\n",
       "    .dataframe thead th {\n",
       "        text-align: right;\n",
       "    }\n",
       "</style>\n",
       "<table border=\"1\" class=\"dataframe\">\n",
       "  <thead>\n",
       "    <tr style=\"text-align: right;\">\n",
       "      <th></th>\n",
       "      <th>ID</th>\n",
       "      <th>Target</th>\n",
       "      <th>Tweet</th>\n",
       "      <th>Stance</th>\n",
       "      <th>Opinion towards</th>\n",
       "      <th>Sentiment</th>\n",
       "    </tr>\n",
       "  </thead>\n",
       "  <tbody>\n",
       "    <tr>\n",
       "      <th>0</th>\n",
       "      <td>101</td>\n",
       "      <td>Atheism</td>\n",
       "      <td>dear lord thank u for all of ur blessings forg...</td>\n",
       "      <td>AGAINST</td>\n",
       "      <td>OTHER</td>\n",
       "      <td>POSITIVE</td>\n",
       "    </tr>\n",
       "    <tr>\n",
       "      <th>1</th>\n",
       "      <td>102</td>\n",
       "      <td>Atheism</td>\n",
       "      <td>Blessed are the peacemakers, for they shall be...</td>\n",
       "      <td>AGAINST</td>\n",
       "      <td>OTHER</td>\n",
       "      <td>POSITIVE</td>\n",
       "    </tr>\n",
       "    <tr>\n",
       "      <th>2</th>\n",
       "      <td>103</td>\n",
       "      <td>Atheism</td>\n",
       "      <td>I am not conformed to this world. I am transfo...</td>\n",
       "      <td>AGAINST</td>\n",
       "      <td>OTHER</td>\n",
       "      <td>POSITIVE</td>\n",
       "    </tr>\n",
       "  </tbody>\n",
       "</table>\n",
       "</div>"
      ],
      "text/plain": [
       "    ID   Target                                              Tweet   Stance  \\\n",
       "0  101  Atheism  dear lord thank u for all of ur blessings forg...  AGAINST   \n",
       "1  102  Atheism  Blessed are the peacemakers, for they shall be...  AGAINST   \n",
       "2  103  Atheism  I am not conformed to this world. I am transfo...  AGAINST   \n",
       "\n",
       "  Opinion towards Sentiment  \n",
       "0           OTHER  POSITIVE  \n",
       "1           OTHER  POSITIVE  \n",
       "2           OTHER  POSITIVE  "
      ]
     },
     "execution_count": 23,
     "metadata": {},
     "output_type": "execute_result"
    }
   ],
   "source": [
    "train_data.head(3)"
   ]
  },
  {
   "cell_type": "code",
   "execution_count": 24,
   "metadata": {},
   "outputs": [
    {
     "data": {
      "text/html": [
       "<div>\n",
       "<style scoped>\n",
       "    .dataframe tbody tr th:only-of-type {\n",
       "        vertical-align: middle;\n",
       "    }\n",
       "\n",
       "    .dataframe tbody tr th {\n",
       "        vertical-align: top;\n",
       "    }\n",
       "\n",
       "    .dataframe thead th {\n",
       "        text-align: right;\n",
       "    }\n",
       "</style>\n",
       "<table border=\"1\" class=\"dataframe\">\n",
       "  <thead>\n",
       "    <tr style=\"text-align: right;\">\n",
       "      <th></th>\n",
       "      <th>ID</th>\n",
       "      <th>Target</th>\n",
       "      <th>Tweet</th>\n",
       "      <th>Stance</th>\n",
       "      <th>Opinion towards</th>\n",
       "      <th>Sentiment</th>\n",
       "    </tr>\n",
       "  </thead>\n",
       "  <tbody>\n",
       "    <tr>\n",
       "      <th>0</th>\n",
       "      <td>20001</td>\n",
       "      <td>Donald Trump</td>\n",
       "      <td>@2014voteblue @ChrisJZullo blindly supporting ...</td>\n",
       "      <td>NONE</td>\n",
       "      <td>OTHER</td>\n",
       "      <td>NEGATIVE</td>\n",
       "    </tr>\n",
       "    <tr>\n",
       "      <th>1</th>\n",
       "      <td>20002</td>\n",
       "      <td>Donald Trump</td>\n",
       "      <td>@ThePimpernelX @Cameron_Gray @CalebHowe  Total...</td>\n",
       "      <td>NONE</td>\n",
       "      <td>OTHER</td>\n",
       "      <td>POSITIVE</td>\n",
       "    </tr>\n",
       "    <tr>\n",
       "      <th>2</th>\n",
       "      <td>20003</td>\n",
       "      <td>Donald Trump</td>\n",
       "      <td>@JeffYoung @ThePatriot143 I fully support full...</td>\n",
       "      <td>NONE</td>\n",
       "      <td>OTHER</td>\n",
       "      <td>POSITIVE</td>\n",
       "    </tr>\n",
       "  </tbody>\n",
       "</table>\n",
       "</div>"
      ],
      "text/plain": [
       "      ID        Target                                              Tweet  \\\n",
       "0  20001  Donald Trump  @2014voteblue @ChrisJZullo blindly supporting ...   \n",
       "1  20002  Donald Trump  @ThePimpernelX @Cameron_Gray @CalebHowe  Total...   \n",
       "2  20003  Donald Trump  @JeffYoung @ThePatriot143 I fully support full...   \n",
       "\n",
       "  Stance Opinion towards Sentiment  \n",
       "0   NONE           OTHER  NEGATIVE  \n",
       "1   NONE           OTHER  POSITIVE  \n",
       "2   NONE           OTHER  POSITIVE  "
      ]
     },
     "execution_count": 24,
     "metadata": {},
     "output_type": "execute_result"
    }
   ],
   "source": [
    "test_data.head(3)"
   ]
  },
  {
   "cell_type": "code",
   "execution_count": 25,
   "metadata": {
    "scrolled": true
   },
   "outputs": [
    {
     "name": "stdout",
     "output_type": "stream",
     "text": [
      "(2814, 6) (707, 6)\n",
      "ID                 0\n",
      "Target             0\n",
      "Tweet              0\n",
      "Stance             0\n",
      "Opinion towards    0\n",
      "Sentiment          0\n",
      "dtype: int64\n",
      "ID                 0\n",
      "Target             0\n",
      "Tweet              0\n",
      "Stance             0\n",
      "Opinion towards    0\n",
      "Sentiment          0\n",
      "dtype: int64\n"
     ]
    }
   ],
   "source": [
    "print(train_data.shape,test_data.shape)\n",
    "print(train_data.isnull().sum())\n",
    "print(test_data.isnull().sum())"
   ]
  },
  {
   "cell_type": "code",
   "execution_count": 81,
   "metadata": {},
   "outputs": [
    {
     "data": {
      "text/plain": [
       "{'POSITIVE': 0, 'NEGATIVE': 1, 'NEITHER': 2}"
      ]
     },
     "execution_count": 81,
     "metadata": {},
     "output_type": "execute_result"
    }
   ],
   "source": [
    "authors=train_data.Sentiment.unique()\n",
    "dic={}\n",
    "for i,senti in enumerate(authors):\n",
    "    dic[senti]=i\n",
    "labels=train_data.Sentiment.apply(lambda x:dic[x])\n",
    "dic"
   ]
  },
  {
   "cell_type": "code",
   "execution_count": 27,
   "metadata": {},
   "outputs": [
    {
     "data": {
      "text/html": [
       "<div>\n",
       "<style scoped>\n",
       "    .dataframe tbody tr th:only-of-type {\n",
       "        vertical-align: middle;\n",
       "    }\n",
       "\n",
       "    .dataframe tbody tr th {\n",
       "        vertical-align: top;\n",
       "    }\n",
       "\n",
       "    .dataframe thead th {\n",
       "        text-align: right;\n",
       "    }\n",
       "</style>\n",
       "<table border=\"1\" class=\"dataframe\">\n",
       "  <thead>\n",
       "    <tr style=\"text-align: right;\">\n",
       "      <th></th>\n",
       "      <th>ID</th>\n",
       "      <th>Target</th>\n",
       "      <th>Tweet</th>\n",
       "      <th>Stance</th>\n",
       "      <th>Opinion towards</th>\n",
       "      <th>Sentiment</th>\n",
       "    </tr>\n",
       "  </thead>\n",
       "  <tbody>\n",
       "    <tr>\n",
       "      <th>0</th>\n",
       "      <td>101</td>\n",
       "      <td>Atheism</td>\n",
       "      <td>dear lord thank u for all of ur blessings forg...</td>\n",
       "      <td>AGAINST</td>\n",
       "      <td>OTHER</td>\n",
       "      <td>POSITIVE</td>\n",
       "    </tr>\n",
       "    <tr>\n",
       "      <th>1</th>\n",
       "      <td>102</td>\n",
       "      <td>Atheism</td>\n",
       "      <td>Blessed are the peacemakers, for they shall be...</td>\n",
       "      <td>AGAINST</td>\n",
       "      <td>OTHER</td>\n",
       "      <td>POSITIVE</td>\n",
       "    </tr>\n",
       "    <tr>\n",
       "      <th>2</th>\n",
       "      <td>103</td>\n",
       "      <td>Atheism</td>\n",
       "      <td>I am not conformed to this world. I am transfo...</td>\n",
       "      <td>AGAINST</td>\n",
       "      <td>OTHER</td>\n",
       "      <td>POSITIVE</td>\n",
       "    </tr>\n",
       "    <tr>\n",
       "      <th>3</th>\n",
       "      <td>104</td>\n",
       "      <td>Atheism</td>\n",
       "      <td>Salah should be prayed with #focus and #unders...</td>\n",
       "      <td>AGAINST</td>\n",
       "      <td>OTHER</td>\n",
       "      <td>POSITIVE</td>\n",
       "    </tr>\n",
       "    <tr>\n",
       "      <th>4</th>\n",
       "      <td>105</td>\n",
       "      <td>Atheism</td>\n",
       "      <td>And stay in your houses and do not display you...</td>\n",
       "      <td>AGAINST</td>\n",
       "      <td>OTHER</td>\n",
       "      <td>NEGATIVE</td>\n",
       "    </tr>\n",
       "    <tr>\n",
       "      <th>...</th>\n",
       "      <td>...</td>\n",
       "      <td>...</td>\n",
       "      <td>...</td>\n",
       "      <td>...</td>\n",
       "      <td>...</td>\n",
       "      <td>...</td>\n",
       "    </tr>\n",
       "    <tr>\n",
       "      <th>2807</th>\n",
       "      <td>2908</td>\n",
       "      <td>Legalization of Abortion</td>\n",
       "      <td>If your agonist abortion get a vasectomy  #SemST</td>\n",
       "      <td>AGAINST</td>\n",
       "      <td>OTHER</td>\n",
       "      <td>NEGATIVE</td>\n",
       "    </tr>\n",
       "    <tr>\n",
       "      <th>2808</th>\n",
       "      <td>2909</td>\n",
       "      <td>Legalization of Abortion</td>\n",
       "      <td>When you bring up the 50 million black babies ...</td>\n",
       "      <td>AGAINST</td>\n",
       "      <td>OTHER</td>\n",
       "      <td>NEGATIVE</td>\n",
       "    </tr>\n",
       "    <tr>\n",
       "      <th>2809</th>\n",
       "      <td>2910</td>\n",
       "      <td>Legalization of Abortion</td>\n",
       "      <td>There's a law protecting unborn eagles, but no...</td>\n",
       "      <td>AGAINST</td>\n",
       "      <td>TARGET</td>\n",
       "      <td>NEGATIVE</td>\n",
       "    </tr>\n",
       "    <tr>\n",
       "      <th>2812</th>\n",
       "      <td>2913</td>\n",
       "      <td>Legalization of Abortion</td>\n",
       "      <td>Equal rights for those 'born that way', no rig...</td>\n",
       "      <td>AGAINST</td>\n",
       "      <td>OTHER</td>\n",
       "      <td>NEGATIVE</td>\n",
       "    </tr>\n",
       "    <tr>\n",
       "      <th>2813</th>\n",
       "      <td>2914</td>\n",
       "      <td>Legalization of Abortion</td>\n",
       "      <td>#POTUS seals his legacy w/ 1/2 doz wins. The #...</td>\n",
       "      <td>AGAINST</td>\n",
       "      <td>OTHER</td>\n",
       "      <td>NEGATIVE</td>\n",
       "    </tr>\n",
       "  </tbody>\n",
       "</table>\n",
       "<p>2251 rows × 6 columns</p>\n",
       "</div>"
      ],
      "text/plain": [
       "        ID                    Target  \\\n",
       "0      101                   Atheism   \n",
       "1      102                   Atheism   \n",
       "2      103                   Atheism   \n",
       "3      104                   Atheism   \n",
       "4      105                   Atheism   \n",
       "...    ...                       ...   \n",
       "2807  2908  Legalization of Abortion   \n",
       "2808  2909  Legalization of Abortion   \n",
       "2809  2910  Legalization of Abortion   \n",
       "2812  2913  Legalization of Abortion   \n",
       "2813  2914  Legalization of Abortion   \n",
       "\n",
       "                                                  Tweet   Stance  \\\n",
       "0     dear lord thank u for all of ur blessings forg...  AGAINST   \n",
       "1     Blessed are the peacemakers, for they shall be...  AGAINST   \n",
       "2     I am not conformed to this world. I am transfo...  AGAINST   \n",
       "3     Salah should be prayed with #focus and #unders...  AGAINST   \n",
       "4     And stay in your houses and do not display you...  AGAINST   \n",
       "...                                                 ...      ...   \n",
       "2807   If your agonist abortion get a vasectomy  #SemST  AGAINST   \n",
       "2808  When you bring up the 50 million black babies ...  AGAINST   \n",
       "2809  There's a law protecting unborn eagles, but no...  AGAINST   \n",
       "2812  Equal rights for those 'born that way', no rig...  AGAINST   \n",
       "2813  #POTUS seals his legacy w/ 1/2 doz wins. The #...  AGAINST   \n",
       "\n",
       "     Opinion towards Sentiment  \n",
       "0              OTHER  POSITIVE  \n",
       "1              OTHER  POSITIVE  \n",
       "2              OTHER  POSITIVE  \n",
       "3              OTHER  POSITIVE  \n",
       "4              OTHER  NEGATIVE  \n",
       "...              ...       ...  \n",
       "2807           OTHER  NEGATIVE  \n",
       "2808           OTHER  NEGATIVE  \n",
       "2809          TARGET  NEGATIVE  \n",
       "2812           OTHER  NEGATIVE  \n",
       "2813           OTHER  NEGATIVE  \n",
       "\n",
       "[2251 rows x 6 columns]"
      ]
     },
     "execution_count": 27,
     "metadata": {},
     "output_type": "execute_result"
    }
   ],
   "source": [
    "val_data=train_data.sample(frac=0.2,random_state=250)\n",
    "train_data=train_data.drop(val_data.index)\n",
    "train_data"
   ]
  },
  {
   "cell_type": "code",
   "execution_count": 28,
   "metadata": {},
   "outputs": [],
   "source": [
    "from keras.preprocessing.text import Tokenizer\n",
    "from keras.preprocessing.sequence import pad_sequences\n",
    "from keras.utils import to_categorical"
   ]
  },
  {
   "cell_type": "code",
   "execution_count": 29,
   "metadata": {},
   "outputs": [
    {
     "data": {
      "text/plain": [
       "0       dear lord thank u for all of ur blessings forg...\n",
       "1       Blessed are the peacemakers, for they shall be...\n",
       "2       I am not conformed to this world. I am transfo...\n",
       "3       Salah should be prayed with #focus and #unders...\n",
       "4       And stay in your houses and do not display you...\n",
       "                              ...                        \n",
       "2807     If your agonist abortion get a vasectomy  #SemST\n",
       "2808    When you bring up the 50 million black babies ...\n",
       "2809    There's a law protecting unborn eagles, but no...\n",
       "2812    Equal rights for those 'born that way', no rig...\n",
       "2813    #POTUS seals his legacy w/ 1/2 doz wins. The #...\n",
       "Name: Tweet, Length: 2251, dtype: object"
      ]
     },
     "execution_count": 29,
     "metadata": {},
     "output_type": "execute_result"
    }
   ],
   "source": [
    "texts=train_data[\"Tweet\"]\n",
    "texts"
   ]
  },
  {
   "cell_type": "code",
   "execution_count": 30,
   "metadata": {
    "scrolled": true
   },
   "outputs": [
    {
     "name": "stdout",
     "output_type": "stream",
     "text": [
      "Found 7844 unique tokens.\n",
      "[495, 18, 2, 2745, 11, 33, 452, 15, 332, 135, 6, 29, 1245, 361, 496, 2746, 190, 1]\n"
     ]
    }
   ],
   "source": [
    "NUM_WORDS=200000\n",
    "tokenizer = Tokenizer(num_words=NUM_WORDS,filters='!\"#$%&()*+,-./:;<=>?@[\\\\]^_`{|}~\\t\\n\\'',\n",
    "                      lower=True)\n",
    "tokenizer.fit_on_texts(texts)\n",
    "sequences_train = tokenizer.texts_to_sequences(texts)\n",
    "sequences_valid=tokenizer.texts_to_sequences(val_data[\"Tweet\"])\n",
    "word_index = tokenizer.word_index\n",
    "print('Found %s unique tokens.' % len(word_index))\n",
    "print(sequences_train[1])"
   ]
  },
  {
   "cell_type": "code",
   "execution_count": 31,
   "metadata": {},
   "outputs": [
    {
     "data": {
      "text/plain": [
       "0       0\n",
       "1       0\n",
       "2       0\n",
       "3       0\n",
       "4       1\n",
       "       ..\n",
       "2807    1\n",
       "2808    1\n",
       "2809    1\n",
       "2812    1\n",
       "2813    1\n",
       "Name: Sentiment, Length: 2251, dtype: int64"
      ]
     },
     "execution_count": 31,
     "metadata": {},
     "output_type": "execute_result"
    }
   ],
   "source": [
    "labels[train_data.index]"
   ]
  },
  {
   "cell_type": "code",
   "execution_count": 32,
   "metadata": {},
   "outputs": [
    {
     "name": "stdout",
     "output_type": "stream",
     "text": [
      "Shape of X train and X validation tensor: (2251, 33) (563, 33)\n",
      "Shape of label train and validation tensor: (2251, 3) (563, 3)\n"
     ]
    },
    {
     "data": {
      "text/plain": [
       "array([   0,    0,    0,    0,    0,    0,    0,    0,    0,    0,    0,\n",
       "          0,    0,    0,    0,  495,   18,    2, 2745,   11,   33,  452,\n",
       "         15,  332,  135,    6,   29, 1245,  361,  496, 2746,  190,    1])"
      ]
     },
     "execution_count": 32,
     "metadata": {},
     "output_type": "execute_result"
    }
   ],
   "source": [
    "X_train = pad_sequences(sequences_train)\n",
    "X_val = pad_sequences(sequences_valid,maxlen=X_train.shape[1])\n",
    "y_train = to_categorical(np.asarray(labels[train_data.index]))\n",
    "y_val = to_categorical(np.asarray(labels[val_data.index]))\n",
    "print('Shape of X train and X validation tensor:', X_train.shape,X_val.shape)\n",
    "print('Shape of label train and validation tensor:', y_train.shape,y_val.shape)\n",
    "X_train[1]"
   ]
  },
  {
   "cell_type": "code",
   "execution_count": 33,
   "metadata": {},
   "outputs": [],
   "source": [
    "import gensim\n",
    "from gensim.models import Word2Vec\n",
    "from gensim.utils import simple_preprocess\n",
    "\n",
    "from gensim.models.keyedvectors import KeyedVectors\n",
    "\n",
    "word_vectors = KeyedVectors.load_word2vec_format('w2v_model_NLP_week1.pkl')\n",
    "\n",
    "EMBEDDING_DIM=300\n",
    "vocabulary_size=min(len(word_index)+1,NUM_WORDS)\n",
    "embedding_matrix = np.zeros((vocabulary_size, EMBEDDING_DIM))\n",
    "for word, i in word_index.items():\n",
    "    if i>=NUM_WORDS:\n",
    "        continue\n",
    "    try:\n",
    "        embedding_vector = word_vectors[word]\n",
    "        embedding_matrix[i] = embedding_vector\n",
    "    except KeyError:\n",
    "        embedding_matrix[i]=np.random.normal(0,np.sqrt(0.25),EMBEDDING_DIM)\n",
    "\n",
    "del(word_vectors)\n",
    "\n",
    "from keras.layers import Embedding\n",
    "embedding_layer = Embedding(vocabulary_size,\n",
    "                            EMBEDDING_DIM,\n",
    "                            weights=[embedding_matrix],\n",
    "                            trainable=True)\n"
   ]
  },
  {
   "cell_type": "code",
   "execution_count": 35,
   "metadata": {
    "scrolled": true
   },
   "outputs": [],
   "source": [
    "from keras.layers import Dense, Input, GlobalMaxPooling1D\n",
    "from keras.layers import Conv1D, MaxPooling1D, Embedding\n",
    "from keras.models import Model\n",
    "from keras.layers import Input, Dense, Embedding, Conv2D, MaxPooling2D, Dropout,concatenate\n",
    "from keras.layers.core import Reshape, Flatten\n",
    "from keras.callbacks import EarlyStopping\n",
    "from keras.optimizers import Adam\n",
    "from keras.models import Model\n",
    "from keras import regularizers\n",
    "\n",
    "from keras.models import Sequential\n",
    "from keras.layers import Dense, Embedding, LSTM, SpatialDropout1D\n",
    "\n",
    "\n",
    "sequence_length = X_train.shape[1]\n",
    "filter_sizes = [3,4,5]\n",
    "num_filters = 600\n",
    "drop = 0.5\n",
    "\n",
    "\n",
    "embed_dim = 128\n",
    "lstm_out = 196\n",
    "\n",
    "inputs = Input(shape=(sequence_length,))\n",
    "embedding = embedding_layer(inputs)\n",
    "# model.add(embedding_layer)\n",
    "reshape = Reshape((sequence_length,EMBEDDING_DIM,1))(embedding)\n",
    "\n",
    "conv_0 = Conv2D(num_filters, (filter_sizes[0], EMBEDDING_DIM),activation='relu',kernel_regularizer=regularizers.l2(0.01))(reshape)\n",
    "conv_1 = Conv2D(num_filters, (filter_sizes[1], EMBEDDING_DIM),activation='relu',kernel_regularizer=regularizers.l2(0.01))(reshape)\n",
    "conv_2 = Conv2D(num_filters, (filter_sizes[2], EMBEDDING_DIM),activation='relu',kernel_regularizer=regularizers.l2(0.01))(reshape)\n",
    "\n",
    "maxpool_0 = MaxPooling2D((sequence_length - filter_sizes[0] + 1, 1), strides=(1,1))(conv_0)\n",
    "maxpool_1 = MaxPooling2D((sequence_length - filter_sizes[1] + 1, 1), strides=(1,1))(conv_1)\n",
    "maxpool_2 = MaxPooling2D((sequence_length - filter_sizes[2] + 1, 1), strides=(1,1))(conv_2)\n",
    "\n",
    "merged_tensor = concatenate([maxpool_0, maxpool_1, maxpool_2], axis=1)\n",
    "flatten = Flatten()(merged_tensor)\n",
    "reshape = Reshape((3*num_filters,))(flatten)\n",
    "dropout = Dropout(drop)(flatten)\n",
    "\n",
    "\n",
    "\n",
    "# dropout = SpatialDropout1D(0.4)(dropout)\n",
    "# lstm = LSTM(lstm_out, dropout=0.2, recurrent_dropout=0.2)(dropout)\n",
    "# dense = Dense(3, activation = 'softmax')(lstm)\n",
    "# # model.compile(loss = 'categorical_crossentropy', optimizer='adam',metrics = ['accuracy'])\n",
    "\n",
    "output = Dense(units=3, activation='softmax',kernel_regularizer=regularizers.l2(0.01))(dropout)\n",
    "\n",
    "# this creates a model that includes\n",
    "model = Model(inputs, output)\n",
    "\n",
    "\n"
   ]
  },
  {
   "cell_type": "code",
   "execution_count": 42,
   "metadata": {},
   "outputs": [
    {
     "name": "stdout",
     "output_type": "stream",
     "text": [
      "Epoch 1/5\n",
      "71/71 [==============================] - 14s 200ms/step - loss: 0.4321 - acc: 0.9849 - val_loss: 1.2500 - val_acc: 0.7140\n",
      "Epoch 2/5\n",
      "71/71 [==============================] - 14s 193ms/step - loss: 0.3994 - acc: 0.9911 - val_loss: 1.0800 - val_acc: 0.7052\n",
      "Epoch 3/5\n",
      "71/71 [==============================] - 14s 192ms/step - loss: 0.3133 - acc: 0.9951 - val_loss: 1.0991 - val_acc: 0.7123\n"
     ]
    }
   ],
   "source": [
    "adam = Adam(lr=1e-3)\n",
    "\n",
    "model.compile(loss='categorical_crossentropy',\n",
    "              optimizer=adam,\n",
    "              metrics=['acc'])\n",
    "callbacks = [EarlyStopping(monitor='val_loss')]\n",
    "history = model.fit(X_train, y_train, batch_size=32, epochs=5, verbose=1, validation_data=(X_val, y_val),\n",
    "         callbacks=callbacks)  \n",
    "# starts training"
   ]
  },
  {
   "cell_type": "code",
   "execution_count": 43,
   "metadata": {},
   "outputs": [],
   "source": [
    "sequences_test=tokenizer.texts_to_sequences(test_data[\"Tweet\"])\n",
    "X_test = pad_sequences(sequences_test,maxlen=X_train.shape[1])\n",
    "y_pred = model.predict(X_test)"
   ]
  },
  {
   "cell_type": "code",
   "execution_count": 44,
   "metadata": {},
   "outputs": [],
   "source": [
    "to_submit=pd.DataFrame(index=test_data.ID,data={'POSITIVE':y_pred[:,dic['POSITIVE']],\n",
    "                                                'NEGATIVE':y_pred[:,dic['NEGATIVE']]})"
   ]
  },
  {
   "cell_type": "code",
   "execution_count": 45,
   "metadata": {},
   "outputs": [],
   "source": [
    "to_submit.to_csv('submit.csv')"
   ]
  },
  {
   "cell_type": "code",
   "execution_count": 108,
   "metadata": {},
   "outputs": [],
   "source": [
    "import matplotlib.pyplot as plt"
   ]
  },
  {
   "cell_type": "code",
   "execution_count": 162,
   "metadata": {},
   "outputs": [
    {
     "data": {
      "image/png": "[encoded data removed]",
      "text/plain": [
       "<Figure size 432x288 with 1 Axes>"
      ]
     },
     "metadata": {
      "needs_background": "light"
     },
     "output_type": "display_data"
    },
    {
     "data": {
      "image/png": "[encoded data removed]",
      "text/plain": [
       "<Figure size 432x288 with 1 Axes>"
      ]
     },
     "metadata": {
      "needs_background": "light"
     },
     "output_type": "display_data"
    }
   ],
   "source": [
    "epochs = range(3)\n",
    "acc = history.history['acc']\n",
    "\n",
    "val_acc = history.history['val_acc']\n",
    "loss = history.history['loss']\n",
    "val_loss = history.history['val_loss']\n",
    "label = [\"Positive\", \"Negative\", \"Neither\"]\n",
    "\n",
    "\n",
    "plt.plot(epochs, acc, 'b', label='Training acc')\n",
    "plt.plot(epochs, val_acc, 'r', label='Validation acc')\n",
    "plt.title('Training and validation accuracy for ' + label[i])\n",
    "plt.legend()\n",
    "plt.figure()\n",
    "\n",
    "plt.plot(epochs, loss, 'b', label='Training loss')\n",
    "plt.plot(epochs, val_loss, 'r', label='Validation loss')\n",
    "plt.title('Training and validation loss for ' + label[i])\n",
    "plt.legend()\n",
    "plt.show()"
   ]
  },
  {
   "cell_type": "code",
   "execution_count": 93,
   "metadata": {},
   "outputs": [],
   "source": [
    "def predict(text, include_neutral=True):\n",
    "    # Tokenize text\n",
    "    x_test = pad_sequences(tokenizer.texts_to_sequences([text]), maxlen=X_train.shape[1])\n",
    "    \n",
    "    # Predict\n",
    "    score = model.predict(x_test)\n",
    "    print(score)\n",
    "    \n",
    "    print(\"0: Positive, 1:Negative, 2: Neither\")\n",
    "\n",
    "#     if(score <= 0.4):\n",
    "#         label = \"Negative\"\n",
    "#     if(score >= 0.6):\n",
    "#         label = \"Positive\"\n",
    "#     else:\n",
    "#         label = \"Neutral\"\n",
    "\n",
    "    return 0"
   ]
  },
  {
   "cell_type": "code",
   "execution_count": 155,
   "metadata": {
    "scrolled": true
   },
   "outputs": [
    {
     "name": "stdout",
     "output_type": "stream",
     "text": [
      "[[0.02365948 0.8574029  0.11893766]]\n",
      "0: Positive, 1:Negative, 2: Neither\n"
     ]
    }
   ],
   "source": [
    "text = \"We are up big now but they are trying to steal the election. We will never let them do it.Votes cannot be cast after the polls are closed.\"\n",
    "pred = predict(text)\n"
   ]
  },
  {
   "cell_type": "code",
   "execution_count": 154,
   "metadata": {},
   "outputs": [
    {
     "name": "stdout",
     "output_type": "stream",
     "text": [
      "0.6858507197006719\n",
      "0.7104795737122558\n",
      "0.6931307424213513\n"
     ]
    }
   ],
   "source": [
    "from sklearn.metrics import f1_score, precision_score, recall_score, confusion_matrix\n",
    "y_pred1 = model.predict(X_val)\n",
    "y_pred = np.argmax(y_pred1, axis=1)#\n",
    "y_vali = np.argmax(y_val, axis=1)\n",
    "# print(y_pred)\n",
    "# print(y_vali)\n",
    "# Print f1, precision, and recall scores\n",
    "print(precision_score(y_vali, y_pred , average=\"weighted\"))\n",
    "print(recall_score(y_vali, y_pred , average=\"weighted\"))\n",
    "print(f1_score(y_vali, y_pred , average=\"weighted\"))"
   ]
  },
  {
   "cell_type": "markdown",
   "metadata": {},
   "source": [
    "# LSTM"
   ]
  },
  {
   "cell_type": "code",
   "execution_count": 150,
   "metadata": {},
   "outputs": [
    {
     "name": "stdout",
     "output_type": "stream",
     "text": [
      "Model: \"sequential_9\"\n",
      "_________________________________________________________________\n",
      "Layer (type)                 Output Shape              Param #   \n",
      "=================================================================\n",
      "embedding (Embedding)        multiple                  2353500   \n",
      "_________________________________________________________________\n",
      "spatial_dropout1d_5 (Spatial (None, None, 300)         0         \n",
      "_________________________________________________________________\n",
      "lstm_6 (LSTM)                (None, 196)               389648    \n",
      "_________________________________________________________________\n",
      "dense_5 (Dense)              (None, 3)                 591       \n",
      "=================================================================\n",
      "Total params: 2,743,739\n",
      "Trainable params: 2,743,739\n",
      "Non-trainable params: 0\n",
      "_________________________________________________________________\n",
      "None\n"
     ]
    }
   ],
   "source": [
    "embed_dim = 128\n",
    "lstm_out = 196\n",
    "max_features = 2000\n",
    "\n",
    "model1 = Sequential()\n",
    "model1.add(embedding_layer)\n",
    "# model1.add(Embedding(max_features, embed_dim,input_length =(sequence_length,)))\n",
    "model1.add(SpatialDropout1D(0.2))\n",
    "model1.add(LSTM(lstm_out, dropout=0.2, recurrent_dropout=0.2))\n",
    "model1.add(Dense(3,activation='softmax'))\n",
    "model1.compile(loss = 'categorical_crossentropy', optimizer='adam',metrics = ['accuracy'])\n",
    "print(model1.summary())"
   ]
  },
  {
   "cell_type": "code",
   "execution_count": 151,
   "metadata": {},
   "outputs": [
    {
     "name": "stdout",
     "output_type": "stream",
     "text": [
      "Epoch 1/5\n",
      "71/71 - 10s - loss: 0.1986 - accuracy: 0.9258 - val_loss: 1.1500 - val_accuracy: 0.6927\n",
      "Epoch 2/5\n",
      "71/71 - 9s - loss: 0.0247 - accuracy: 0.9933 - val_loss: 1.2853 - val_accuracy: 0.7105\n"
     ]
    }
   ],
   "source": [
    "h = model1.fit(X_train, y_train, batch_size=32, epochs=5, verbose=2, validation_data=(X_val, y_val), callbacks = callbacks)\n"
   ]
  },
  {
   "cell_type": "code",
   "execution_count": 152,
   "metadata": {},
   "outputs": [
    {
     "name": "stdout",
     "output_type": "stream",
     "text": [
      "0.6960719976705767\n",
      "0.7104795737122558\n",
      "0.702098844129776\n"
     ]
    }
   ],
   "source": [
    "from sklearn.metrics import f1_score, precision_score, recall_score, confusion_matrix\n",
    "y_pred12 = model1.predict(X_val)\n",
    "y_pred2 = np.argmax(y_pred12, axis=1)\n",
    "# y_vali = np.argmax(y_val, axis=1)\n",
    "# print(y_pred)\n",
    "# print(y_vali)\n",
    "# Print f1, precision, and recall scores\n",
    "print(precision_score(y_vali, y_pred2 , average=\"weighted\"))\n",
    "print(recall_score(y_vali, y_pred2 , average=\"weighted\"))\n",
    "print(f1_score(y_vali, y_pred2 , average=\"weighted\"))"
   ]
  },
  {
   "cell_type": "code",
   "execution_count": 156,
   "metadata": {},
   "outputs": [],
   "source": [
    "def predict1(text, include_neutral=True):\n",
    "    # Tokenize text\n",
    "    x_test = pad_sequences(tokenizer.texts_to_sequences([text]), maxlen=X_train.shape[1])\n",
    "    \n",
    "    # Predict\n",
    "    score = model1.predict(x_test)\n",
    "    print(score)\n",
    "    \n",
    "    print(\"0: Positive, 1:Negative, 2: Neither\")\n",
    "\n",
    "#     if(score <= 0.4):\n",
    "#         label = \"Negative\"\n",
    "#     if(score >= 0.6):\n",
    "#         label = \"Positive\"\n",
    "#     else:\n",
    "#         label = \"Neutral\"\n",
    "\n",
    "    return 0"
   ]
  },
  {
   "cell_type": "code",
   "execution_count": 158,
   "metadata": {},
   "outputs": [
    {
     "name": "stdout",
     "output_type": "stream",
     "text": [
      "[[0.00183636 0.9956787  0.00248501]]\n",
      "0: Positive, 1:Negative, 2: Neither\n"
     ]
    }
   ],
   "source": [
    "text = \"We are up big now but they are trying to steal the election. We will never let them do it.Votes cannot be cast after the polls are closed.\"\n",
    "pred = predict1(text)"
   ]
  },
  {
   "cell_type": "code",
   "execution_count": 166,
   "metadata": {},
   "outputs": [
    {
     "name": "stdout",
     "output_type": "stream",
     "text": [
      "[[0.91191804 0.05057024 0.03751175]]\n",
      "0: Positive, 1:Negative, 2: Neither\n"
     ]
    }
   ],
   "source": [
    "text = \"I really have good people in my life right now! you only live once\"\n",
    "pred = predict1(text)"
   ]
  },
  {
   "cell_type": "code",
   "execution_count": 173,
   "metadata": {},
   "outputs": [
    {
     "name": "stdout",
     "output_type": "stream",
     "text": [
      "[[0.42450395 0.17547758 0.40001854]]\n",
      "0: Positive, 1:Negative, 2: Neither\n"
     ]
    }
   ],
   "source": [
    "text = \"this group of people have not done anything for the country\"\n",
    "pred = predict1(text)"
   ]
  },
  {
   "cell_type": "code",
   "execution_count": null,
   "metadata": {},
   "outputs": [],
   "source": []
  }
 ],
 "metadata": {
  "kernelspec": {
   "display_name": "Python 3",
   "language": "python",
   "name": "python3"
  },
  "language_info": {
   "codemirror_mode": {
    "name": "ipython",
    "version": 3
   },
   "file_extension": ".py",
   "mimetype": "text/x-python",
   "name": "python",
   "nbconvert_exporter": "python",
   "pygments_lexer": "ipython3",
   "version": "3.7.9"
  }
 },
 "nbformat": 4,
 "nbformat_minor": 4
}
